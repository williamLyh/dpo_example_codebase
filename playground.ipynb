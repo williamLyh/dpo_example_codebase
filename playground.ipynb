{
 "cells": [
  {
   "cell_type": "code",
   "execution_count": 1,
   "id": "ebba7743",
   "metadata": {},
   "outputs": [
    {
     "name": "stderr",
     "output_type": "stream",
     "text": [
      "/Users/yinhongliu/miniconda3/envs/py312/lib/python3.12/site-packages/tqdm/auto.py:21: TqdmWarning: IProgress not found. Please update jupyter and ipywidgets. See https://ipywidgets.readthedocs.io/en/stable/user_install.html\n",
      "  from .autonotebook import tqdm as notebook_tqdm\n"
     ]
    }
   ],
   "source": [
    "import torch\n",
    "from torch.utils.data import DataLoader\n",
    "from transformers import AutoTokenizer, AutoModelForCausalLM\n",
    "from datasets import load_dataset\n",
    "import torch.nn.functional as F\n",
    "from tqdm import tqdm\n",
    "\n",
    "CACHE_DIR = None\n",
    "\n"
   ]
  },
  {
   "cell_type": "code",
   "execution_count": 2,
   "id": "63e4533b",
   "metadata": {},
   "outputs": [],
   "source": [
    "\n",
    "MODEL_NAME = \"Qwen/Qwen2.5-0.5B-Instruct\"\n",
    "BATCH_SIZE = 20\n",
    "LR = 5e-5\n",
    "EPOCHS = 1\n",
    "BETA = 0.1\n",
    "MAX_PROMPT_LEN = 512\n",
    "MAX_RESP_LEN = 512\n",
    "PAD_TO_MULTIPLE_OF = 8  # 便于 tensor core 加速\n",
    "DEVICE = \"cuda\" if torch.cuda.is_available() else \"cpu\"\n",
    "\n",
    "\n",
    "tokenizer = AutoTokenizer.from_pretrained(MODEL_NAME, cache_dir=CACHE_DIR, padding_side=\"right\", truncation=True, max_length=MAX_PROMPT_LEN)\n",
    "tokenizer.pad_token = tokenizer.eos_token\n",
    "model = AutoModelForCausalLM.from_pretrained(MODEL_NAME, cache_dir=CACHE_DIR).to(DEVICE)\n",
    "\n",
    "# ref_model = AutoModelForCausalLM.from_pretrained(MODEL_NAME, cache_dir=CACHE_DIR).to(DEVICE)\n",
    "# ref_model.eval()  # 不训练\n"
   ]
  },
  {
   "cell_type": "code",
   "execution_count": 3,
   "id": "2fcaeb32",
   "metadata": {},
   "outputs": [],
   "source": [
    "dataset = load_dataset(\"Dahoas/rm-static\", cache_dir=CACHE_DIR)[\"train\"]\n"
   ]
  },
  {
   "cell_type": "code",
   "execution_count": 4,
   "id": "424a19cb",
   "metadata": {},
   "outputs": [],
   "source": [
    "# -----------------------\n",
    "# DataLoader\n",
    "# -----------------------\n",
    "def apply_chat_template(prompt, response, tokenizer):\n",
    "    messages = [\n",
    "        {\"role\": \"user\", \"content\": prompt.strip()},\n",
    "        {\"role\": \"assistant\", \"content\": response.strip()}\n",
    "    ]\n",
    "    msg = tokenizer.apply_chat_template(messages, tokenize=False, add_generation_prompt=False)#.strip()  # There's an automatic /n at the end\n",
    "    return msg\n",
    "\n",
    "\n",
    "def collate_fn(batch):\n",
    "    prompt_chosen_texts = []\n",
    "    prompt_rejected_texts = []\n",
    "    prompt_only_texts = []\n",
    "    prompt_offset_lens = []\n",
    "    for item in batch:\n",
    "        prompt_chosen_texts.append(apply_chat_template(item['prompt'], item['chosen'], tokenizer))\n",
    "        prompt_rejected_texts.append(apply_chat_template(item['prompt'], item['rejected'], tokenizer))\n",
    "        prompt_only = apply_chat_template(item['prompt'], '', tokenizer)\n",
    "        prompt_only_len = tokenizer(prompt_only, return_tensors=\"pt\", padding=False, truncation=True).input_ids.shape[1]\n",
    "        prompt_offset_lens.append(prompt_only_len-2)\n",
    "\n",
    "    prompt_chosen_ids = tokenizer(prompt_chosen_texts, return_tensors=\"pt\", padding=True, truncation=True).input_ids\n",
    "    prompt_rejected_ids = tokenizer(prompt_rejected_texts, return_tensors=\"pt\", padding=True, truncation=True).input_ids\n",
    "\n",
    "    return {\n",
    "        'prompt_chosen_ids': prompt_chosen_ids,\n",
    "        'prompt_rejected_ids': prompt_rejected_ids,\n",
    "        'prompt_offset_lens': torch.tensor(prompt_offset_lens, dtype=torch.int32)}\n",
    "\n",
    "\n",
    "loader = DataLoader(dataset, batch_size=BATCH_SIZE, shuffle=True, collate_fn=collate_fn)\n"
   ]
  },
  {
   "cell_type": "code",
   "execution_count": null,
   "id": "19907d0b",
   "metadata": {},
   "outputs": [
    {
     "ename": "AssertionError",
     "evalue": "",
     "output_type": "error",
     "traceback": [
      "\u001b[0;31m---------------------------------------------------------------------------\u001b[0m",
      "\u001b[0;31mAssertionError\u001b[0m                            Traceback (most recent call last)",
      "Cell \u001b[0;32mIn[6], line 14\u001b[0m\n\u001b[1;32m     10\u001b[0m outputs_chosen \u001b[38;5;241m=\u001b[39m model(prompt_chosen_batch)\n\u001b[1;32m     11\u001b[0m \u001b[38;5;66;03m# outputs_rejected = model(prompt_rejected_batch)\u001b[39;00m\n\u001b[0;32m---> 14\u001b[0m \u001b[38;5;28;01massert\u001b[39;00m \u001b[38;5;28;01mFalse\u001b[39;00m\n\u001b[1;32m     16\u001b[0m loss_chosen \u001b[38;5;241m=\u001b[39m outputs_chosen\u001b[38;5;241m.\u001b[39mloss\n\u001b[1;32m     17\u001b[0m loss_rejected \u001b[38;5;241m=\u001b[39m outputs_rejected\u001b[38;5;241m.\u001b[39mloss\n",
      "\u001b[0;31mAssertionError\u001b[0m: "
     ]
    }
   ],
   "source": [
    "for batch in loader:\n",
    "    prompt_chosen_batch = batch['prompt_chosen_ids'].to(DEVICE)\n",
    "    prompt_rejected_batch = batch['prompt_rejected_ids'].to(DEVICE)\n",
    "    prompt_offset_lens_batch = batch['prompt_offset_lens'].to(DEVICE)\n",
    "    \n",
    "    # print(tokenizer.decode(prompt_chosen_batch[1]))\n",
    "    # print(tokenizer.decode(prompt_chosen_batch[1][prompt_offset_lens_batch[1]:]))\n",
    "\n",
    "    # 计算损失\n",
    "    outputs_chosen = model(prompt_chosen_batch)\n",
    "    # outputs_rejected = model(prompt_rejected_batch)\n",
    "\n",
    "\n",
    "\n",
    "    chosen_logprobs = F.log_softmax(outputs_chosen.logits[:, :-1, :], dim=-1)\n",
    "    chosen_logprobs_selected = torch.gather(chosen_logprobs, dim=-1, index=prompt_chosen_batch[:, 1:].unsqueeze(-1)).squeeze(-1)\n",
    "    print(chosen_lorgprobs_selected)\n",
    "\n",
    "    \n",
    "    assert False\n",
    "\n",
    "    loss_chosen = outputs_chosen.loss\n",
    "    loss_rejected = outputs_rejected.loss\n",
    "\n",
    "    # 计算 DPO 损失\n",
    "    logits_chosen = outputs_chosen.logits[:, :-1, :].contiguous()\n",
    "    logits_rejected = outputs_rejected.logits[:, :-1, :].contiguous()\n",
    "\n",
    "    chosen_log_probs = F.log_softmax(logits_chosen, dim=-1)\n",
    "    rejected_log_probs = F.log_softmax(logits_rejected, dim=-1)\n",
    "\n",
    "    chosen_log_probs_selected = torch.gather(chosen_log_probs, -1, prompt_chosen_ids[:, 1:].unsqueeze(-1)).squeeze(-1)\n",
    "    rejected_log_probs_selected = torch.gather(rejected_log_probs, -1, prompt_rejected_ids[:, 1:].unsqueeze(-1)).squeeze(-1)\n",
    "\n",
    "    dpo_loss = (chosen_log_probs_selected - rejected_log_probs_selected).mean()\n",
    "\n",
    "    # 反向传播\n",
    "    loss = loss_chosen + loss_rejected + BETA * dpo_loss\n",
    "    loss.backward()\n",
    "\n",
    "    # 优化器更新等操作..."
   ]
  },
  {
   "cell_type": "code",
   "execution_count": 12,
   "id": "c63ed951",
   "metadata": {},
   "outputs": [
    {
     "ename": "",
     "evalue": "",
     "output_type": "error",
     "traceback": [
      "\u001b[1;31mThe Kernel crashed while executing code in the current cell or a previous cell. \n",
      "\u001b[1;31mPlease review the code in the cell(s) to identify a possible cause of the failure. \n",
      "\u001b[1;31mClick <a href='https://aka.ms/vscodeJupyterKernelCrash'>here</a> for more info. \n",
      "\u001b[1;31mView Jupyter <a href='command:jupyter.viewOutput'>log</a> for further details."
     ]
    }
   ],
   "source": [
    "outputs_chosen.logits.shape\n",
    "chosen_logprobs = F.log_softmax(outputs_chosen.logits[:, :-1, :], dim=-1)\n",
    "\n",
    "chosen_logprobs_selected = torch.gather(chosen_logprobs, dim=-1, index=prompt_chosen_batch[:, 1:].unsqueeze(-1)).squeeze(-1)\n"
   ]
  },
  {
   "cell_type": "code",
   "execution_count": 9,
   "id": "6dc03126",
   "metadata": {},
   "outputs": [
    {
     "data": {
      "text/plain": [
       "(torch.Size([20, 459, 151936]), torch.Size([20, 459, 1]))"
      ]
     },
     "execution_count": 9,
     "metadata": {},
     "output_type": "execute_result"
    }
   ],
   "source": [
    "outputs_chosen.logits.shape, prompt_chosen_batch.unsqueeze(-1).shape\n",
    "\n"
   ]
  }
 ],
 "metadata": {
  "kernelspec": {
   "display_name": "py312",
   "language": "python",
   "name": "python3"
  },
  "language_info": {
   "codemirror_mode": {
    "name": "ipython",
    "version": 3
   },
   "file_extension": ".py",
   "mimetype": "text/x-python",
   "name": "python",
   "nbconvert_exporter": "python",
   "pygments_lexer": "ipython3",
   "version": "3.12.7"
  }
 },
 "nbformat": 4,
 "nbformat_minor": 5
}

{
 "cells": [
  {
   "cell_type": "code",
   "execution_count": 4,
   "id": "ebba7743",
   "metadata": {},
   "outputs": [],
   "source": [
    "import torch\n",
    "from torch.utils.data import DataLoader\n",
    "from transformers import AutoTokenizer, AutoModelForCausalLM\n",
    "from datasets import load_dataset\n",
    "import torch.nn.functional as F\n",
    "from tqdm import tqdm\n",
    "\n",
    "CACHE_DIR = None\n",
    "\n"
   ]
  },
  {
   "cell_type": "code",
   "execution_count": 9,
   "id": "ef295c14",
   "metadata": {},
   "outputs": [
    {
     "data": {
      "text/plain": [
       "{'chosen': [{'content': 'Use the pygame library to write a version of the classic game Snake, with a unique twist',\n",
       "   'role': 'user'},\n",
       "  {'content': \"Sure, I'd be happy to help you write a version of the classic game Snake using the pygame library! Here's a basic outline of how we can approach this:\\n\\n1. First, we'll need to set up the game display and create a game object that we can use to handle the game's state.\\n2. Next, we'll create the game's grid, which will be used to represent the game board. We'll need to define the size of the grid and the spaces within it.\\n3. After that, we'll create the snake object, which will be used to represent the player's movement. We'll need to define the size of the snake and the speed at which it moves.\\n4. We'll also need to create a food object, which will be used to represent the food that the player must collect to score points. We'll need to define the location of the food and the speed at which it moves.\\n5. Once we have these objects set up, we can start handling the game's logic. We'll need to define the rules for the player's movements, such as how the player can move the snake and how the snake will grow as the player collects more food.\\n6. We'll also need to add collisions detection to the game, so that the snake and the food can collide with each other.\\n7. Finally, we'll need to add a user interface to the game, such as a menu and a scoreboard.\\n\\nNow, as for the unique twist, we could add a few features to make the game more interesting. For example, we could add power-ups that give the player special abilities, such as the ability to grow the snake faster or to change its direction. We could also add obstacles, such as walls or pits, that the player must avoid.\\n\\nHere's some sample code to get us started:\\n```\\nimport pygame\\n\\n# Initialize pygame\\npygame.init()\\n\\n# Set up the game display\\nwidth = 800\\nheight = 600\\nscreen = pygame.display.set_mode((width, height))\\n\\n# Define the colors\\nWHITE = (255, 255, 255)\\nBLACK = (0, 0, 0)\\nGREEN = (0, 255, 0)\\n\\n# Define the game objects\\nsnake = pygame.Rect(50, 50, 10, 10)\\nfood = pygame.Rect(100, 100, 10, 10)\\n\\n# Define the game logic\\ndef update_snake():\\n    # Get the mouse position\\n    mouse_pos = pygame.mouse.get_pos()\\n\\n    # Move the snake based on the mouse position\\n    if mouse_pos[0] > snake.x:\\n        snake.x += 10\\n    elif mouse_pos[0] < snake.x:\\n        snake.x -= 10\\n    elif mouse_pos[1] > snake.y:\\n        snake.y += 10\\n    elif mouse_pos[1] < snake.y:\\n        snake.y -= 10\\n\\n    # Update the snake's size\\n    if snake.x == food.x and snake.y == food.y:\\n        snake.width += 10\\n        snake.height += 10\\n\\n# Define the game loop\\ndef game_loop():\\n    # Clear the screen\\n    screen.fill(BLACK)\\n\\n    # Update the game objects\\n    update_snake()\\n\\n    # Draw the game objects\\n    screen.fill(WHITE)\\n    screen.draw.rect(snake, GREEN)\\n    screen.draw.rect(food, BLACK)\\n\\n    # Update the display\\n    pygame.display.flip()\\n\\n# Start the game loop\\ngame_loop()\\n\\n# Run the game\\nwhile True:\\n    for event in pygame.event.get():\\n        if event.type == pygame.QUIT:\\n            pygame.quit()\\n            break\\n\\n    pygame.time.Clock().tick(60)\\n```\\nThis code sets up a basic game display, defines the snake and food objects, and updates the game state based on the player's movements. We've also added a simple user interface and some basic collision detection.\\n\\nAs for the unique twist, we could add a few features to make the game\",\n",
       "   'role': 'assistant'}],\n",
       " 'rejected': [{'content': 'Use the pygame library to write a version of the classic game Snake, with a unique twist',\n",
       "   'role': 'user'},\n",
       "  {'content': 'Sure, here\\'s an example of how to write a version of Snake game with a unique twist using the Pygame library:\\n```python\\nimport pygame\\n\\nclass SnakeGame:\\n    def __init__(self, game_width, game_height):\\n        pygame.init()\\n        screen = pygame.display.set_mode((game_width, game_height))\\n        pygame.display.set_caption(\"Snake Game\")\\n        self.speed = 5  # Speed of the snake\\n        self.food_speed = 1  # Speed of the food\\n        self.direction = 0  # Initial direction of the snake\\n        self.snakelen = 0  # Length of the snake\\n        self.food = pygame.image.load(\"snake_food.png\")\\n        self.head = pygame.image.load(\"snake_head.png\")\\n        self.tail = pygame.image.load(\"snake_tail.png\")\\n        self.game Quint()\\n    def Quint(self):\\n        for i in range(50):\\n            pygame.draw.line(screen, (180, 100, 220), (0, 0, 200), 2)\\n            pygame.draw.line(screen, (180, 100, 220), (50, 0, 200), 2)\\n            pygame.draw.line(screen, (180, 100, 220), (50, 50, 200), 2)\\n            pygame.draw.line(screen, (180, 100, 220), (50, 50, 300), 2)\\n            pygame.draw.line(screen, (180, 100, 220), (50, 80, 200), 2)\\n            pygame.draw.line(screen, (180, 100, 220), (50, 80, 300), 2)\\n            pygame.draw.line(screen, (180, 100, 220), (0, 50, 200), 2)\\n            pygame.draw.line(screen, (180, 100, 220), (0, 50, 300), 2)\\n            pygame.draw.line(screen, (180, 100, 220), (0, 80, 200), 2)\\n            pygame.draw.line(screen, (180, 100, 220), (0, 80, 300), 2)\\n            pygame.display.flip()\\n        self.game.run()\\n    def run(self):\\n        while True:\\n            for event in pygame.event. pygame.KEYDOWN:\\n                if event.key == pygame.K_LEFT:\\n                    self.direction = -1\\n                if event.key == pygame.K_RIGHT:\\n                    self.direction = 1\\n            self.snakelen += 1\\n            if self.snakelen == 0:\\n                self.snakelen = 10\\n            if self.snakelen > 20:\\n                self.snakelen = 20\\n            self.gameQuint()\\n            self.foodCrossing()\\n            self.headRun()\\n            pygame.display.update()\\ngame = SnakeGame(800, 600)\\ngame.run()\\n```\\nIn this game, the snake moves with a constant speed, but the direction of the snake can be controlled by the user using the left and right arrow keys. The snake grows in length every 10 segments, and when it reaches a certain length, it resets to 10 segments. The food moves fast and randomly crosses the screen, and the snake can eat it by colliding with it. The snake\\'s head and tail move independently of each other. The game ends when the snake dies or reaches the end of the screen.',\n",
       "   'role': 'assistant'}],\n",
       " 'score_chosen': 6.0,\n",
       " 'score_rejected': 4.0}"
      ]
     },
     "execution_count": 9,
     "metadata": {},
     "output_type": "execute_result"
    }
   ],
   "source": [
    "train_dataset = load_dataset(\"trl-lib/ultrafeedback_binarized\", split=\"train\")\n",
    "train_dataset[0]"
   ]
  },
  {
   "cell_type": "code",
   "execution_count": null,
   "id": "c28783a9",
   "metadata": {},
   "outputs": [],
   "source": []
  },
  {
   "cell_type": "code",
   "execution_count": 8,
   "id": "7c99dfea",
   "metadata": {},
   "outputs": [
    {
     "data": {
      "text/plain": [
       "DatasetDict({\n",
       "    train: Dataset({\n",
       "        features: ['prompt', 'response', 'chosen', 'rejected'],\n",
       "        num_rows: 76256\n",
       "    })\n",
       "    test: Dataset({\n",
       "        features: ['prompt', 'response', 'chosen', 'rejected'],\n",
       "        num_rows: 5103\n",
       "    })\n",
       "})"
      ]
     },
     "execution_count": 8,
     "metadata": {},
     "output_type": "execute_result"
    }
   ],
   "source": [
    "\n",
    "dataset = load_dataset(\"Dahoas/rm-static\", cache_dir=CACHE_DIR)\n",
    "dataset\n",
    "\n"
   ]
  },
  {
   "cell_type": "code",
   "execution_count": 4,
   "id": "87b19943",
   "metadata": {},
   "outputs": [
    {
     "ename": "AttributeError",
     "evalue": "module 'math' has no attribute 'average'",
     "output_type": "error",
     "traceback": [
      "\u001b[31m---------------------------------------------------------------------------\u001b[39m",
      "\u001b[31mAttributeError\u001b[39m                            Traceback (most recent call last)",
      "\u001b[36mCell\u001b[39m\u001b[36m \u001b[39m\u001b[32mIn[4]\u001b[39m\u001b[32m, line 3\u001b[39m\n\u001b[32m      1\u001b[39m \u001b[38;5;28;01mimport\u001b[39;00m\u001b[38;5;250m \u001b[39m\u001b[34;01mmath\u001b[39;00m\n\u001b[32m----> \u001b[39m\u001b[32m3\u001b[39m \u001b[43mmath\u001b[49m\u001b[43m.\u001b[49m\u001b[43maverage\u001b[49m([\u001b[32m1\u001b[39m, \u001b[32m2\u001b[39m, \u001b[32m3\u001b[39m])\n",
      "\u001b[31mAttributeError\u001b[39m: module 'math' has no attribute 'average'"
     ]
    }
   ],
   "source": [
    "import math\n",
    "\n",
    "math.average([1, 2, 3])"
   ]
  },
  {
   "cell_type": "code",
   "execution_count": 2,
   "id": "63e4533b",
   "metadata": {},
   "outputs": [],
   "source": [
    "\n",
    "MODEL_NAME = \"Qwen/Qwen2.5-0.5B-Instruct\"\n",
    "BATCH_SIZE = 20\n",
    "LR = 5e-5\n",
    "EPOCHS = 1\n",
    "BETA = 0.1\n",
    "MAX_PROMPT_LEN = 512\n",
    "MAX_RESP_LEN = 512\n",
    "PAD_TO_MULTIPLE_OF = 8  # 便于 tensor core 加速\n",
    "DEVICE = \"cuda\" if torch.cuda.is_available() else \"cpu\"\n",
    "\n",
    "\n",
    "tokenizer = AutoTokenizer.from_pretrained(MODEL_NAME, cache_dir=CACHE_DIR, padding_side=\"right\", truncation=True, max_length=MAX_PROMPT_LEN)\n",
    "tokenizer.pad_token = tokenizer.eos_token\n",
    "model = AutoModelForCausalLM.from_pretrained(MODEL_NAME, cache_dir=CACHE_DIR).to(DEVICE)\n",
    "\n",
    "# ref_model = AutoModelForCausalLM.from_pretrained(MODEL_NAME, cache_dir=CACHE_DIR).to(DEVICE)\n",
    "# ref_model.eval()  # 不训练\n"
   ]
  },
  {
   "cell_type": "code",
   "execution_count": 2,
   "id": "2fcaeb32",
   "metadata": {},
   "outputs": [],
   "source": [
    "dataset = load_dataset(\"Dahoas/rm-static\", cache_dir=CACHE_DIR)\n"
   ]
  },
  {
   "cell_type": "code",
   "execution_count": null,
   "id": "0726dd22",
   "metadata": {},
   "outputs": [],
   "source": [
    "dataset"
   ]
  },
  {
   "cell_type": "code",
   "execution_count": 4,
   "id": "424a19cb",
   "metadata": {},
   "outputs": [],
   "source": [
    "# -----------------------\n",
    "# DataLoader\n",
    "# -----------------------\n",
    "def apply_chat_template(prompt, response, tokenizer):\n",
    "    messages = [\n",
    "        {\"role\": \"user\", \"content\": prompt.strip()},\n",
    "        {\"role\": \"assistant\", \"content\": response.strip()}\n",
    "    ]\n",
    "    msg = tokenizer.apply_chat_template(messages, tokenize=False, add_generation_prompt=False)#.strip()  # There's an automatic /n at the end\n",
    "    return msg\n",
    "\n",
    "\n",
    "def collate_fn(batch):\n",
    "    prompt_chosen_texts = []\n",
    "    prompt_rejected_texts = []\n",
    "    prompt_only_texts = []\n",
    "    prompt_offset_lens = []\n",
    "    for item in batch:\n",
    "        prompt_chosen_texts.append(apply_chat_template(item['prompt'], item['chosen'], tokenizer))\n",
    "        prompt_rejected_texts.append(apply_chat_template(item['prompt'], item['rejected'], tokenizer))\n",
    "        prompt_only = apply_chat_template(item['prompt'], '', tokenizer)\n",
    "        prompt_only_len = tokenizer(prompt_only, return_tensors=\"pt\", padding=False, truncation=True).input_ids.shape[1]\n",
    "        prompt_offset_lens.append(prompt_only_len-2)\n",
    "\n",
    "    prompt_chosen_ids = tokenizer(prompt_chosen_texts, return_tensors=\"pt\", padding=True, truncation=True).input_ids\n",
    "    prompt_rejected_ids = tokenizer(prompt_rejected_texts, return_tensors=\"pt\", padding=True, truncation=True).input_ids\n",
    "\n",
    "    return {\n",
    "        'prompt_chosen_ids': prompt_chosen_ids,\n",
    "        'prompt_rejected_ids': prompt_rejected_ids,\n",
    "        'prompt_offset_lens': torch.tensor(prompt_offset_lens, dtype=torch.int32)}\n",
    "\n",
    "\n",
    "loader = DataLoader(dataset, batch_size=BATCH_SIZE, shuffle=True, collate_fn=collate_fn)\n"
   ]
  },
  {
   "cell_type": "code",
   "execution_count": null,
   "id": "19907d0b",
   "metadata": {},
   "outputs": [
    {
     "ename": "AssertionError",
     "evalue": "",
     "output_type": "error",
     "traceback": [
      "\u001b[0;31m---------------------------------------------------------------------------\u001b[0m",
      "\u001b[0;31mAssertionError\u001b[0m                            Traceback (most recent call last)",
      "Cell \u001b[0;32mIn[6], line 14\u001b[0m\n\u001b[1;32m     10\u001b[0m outputs_chosen \u001b[38;5;241m=\u001b[39m model(prompt_chosen_batch)\n\u001b[1;32m     11\u001b[0m \u001b[38;5;66;03m# outputs_rejected = model(prompt_rejected_batch)\u001b[39;00m\n\u001b[0;32m---> 14\u001b[0m \u001b[38;5;28;01massert\u001b[39;00m \u001b[38;5;28;01mFalse\u001b[39;00m\n\u001b[1;32m     16\u001b[0m loss_chosen \u001b[38;5;241m=\u001b[39m outputs_chosen\u001b[38;5;241m.\u001b[39mloss\n\u001b[1;32m     17\u001b[0m loss_rejected \u001b[38;5;241m=\u001b[39m outputs_rejected\u001b[38;5;241m.\u001b[39mloss\n",
      "\u001b[0;31mAssertionError\u001b[0m: "
     ]
    }
   ],
   "source": [
    "for batch in loader:\n",
    "    prompt_chosen_batch = batch['prompt_chosen_ids'].to(DEVICE)\n",
    "    prompt_rejected_batch = batch['prompt_rejected_ids'].to(DEVICE)\n",
    "    prompt_offset_lens_batch = batch['prompt_offset_lens'].to(DEVICE)\n",
    "    \n",
    "    # print(tokenizer.decode(prompt_chosen_batch[1]))\n",
    "    # print(tokenizer.decode(prompt_chosen_batch[1][prompt_offset_lens_batch[1]:]))\n",
    "\n",
    "    # 计算损失\n",
    "    outputs_chosen = model(prompt_chosen_batch)\n",
    "    # outputs_rejected = model(prompt_rejected_batch)\n",
    "\n",
    "\n",
    "\n",
    "    chosen_logprobs = F.log_softmax(outputs_chosen.logits[:, :-1, :], dim=-1)\n",
    "    chosen_logprobs_selected = torch.gather(chosen_logprobs, dim=-1, index=prompt_chosen_batch[:, 1:].unsqueeze(-1)).squeeze(-1)\n",
    "    print(chosen_lorgprobs_selected)\n",
    "\n",
    "    \n",
    "    assert False\n",
    "\n",
    "    loss_chosen = outputs_chosen.loss\n",
    "    loss_rejected = outputs_rejected.loss\n",
    "\n",
    "    # 计算 DPO 损失\n",
    "    logits_chosen = outputs_chosen.logits[:, :-1, :].contiguous()\n",
    "    logits_rejected = outputs_rejected.logits[:, :-1, :].contiguous()\n",
    "\n",
    "    chosen_log_probs = F.log_softmax(logits_chosen, dim=-1)\n",
    "    rejected_log_probs = F.log_softmax(logits_rejected, dim=-1)\n",
    "\n",
    "    chosen_log_probs_selected = torch.gather(chosen_log_probs, -1, prompt_chosen_ids[:, 1:].unsqueeze(-1)).squeeze(-1)\n",
    "    rejected_log_probs_selected = torch.gather(rejected_log_probs, -1, prompt_rejected_ids[:, 1:].unsqueeze(-1)).squeeze(-1)\n",
    "\n",
    "    dpo_loss = (chosen_log_probs_selected - rejected_log_probs_selected).mean()\n",
    "\n",
    "    # 反向传播\n",
    "    loss = loss_chosen + loss_rejected + BETA * dpo_loss\n",
    "    loss.backward()\n",
    "\n",
    "    # 优化器更新等操作..."
   ]
  },
  {
   "cell_type": "code",
   "execution_count": 12,
   "id": "c63ed951",
   "metadata": {},
   "outputs": [
    {
     "ename": "",
     "evalue": "",
     "output_type": "error",
     "traceback": [
      "\u001b[1;31mThe Kernel crashed while executing code in the current cell or a previous cell. \n",
      "\u001b[1;31mPlease review the code in the cell(s) to identify a possible cause of the failure. \n",
      "\u001b[1;31mClick <a href='https://aka.ms/vscodeJupyterKernelCrash'>here</a> for more info. \n",
      "\u001b[1;31mView Jupyter <a href='command:jupyter.viewOutput'>log</a> for further details."
     ]
    }
   ],
   "source": [
    "outputs_chosen.logits.shape\n",
    "chosen_logprobs = F.log_softmax(outputs_chosen.logits[:, :-1, :], dim=-1)\n",
    "\n",
    "chosen_logprobs_selected = torch.gather(chosen_logprobs, dim=-1, index=prompt_chosen_batch[:, 1:].unsqueeze(-1)).squeeze(-1)\n"
   ]
  },
  {
   "cell_type": "code",
   "execution_count": 9,
   "id": "6dc03126",
   "metadata": {},
   "outputs": [
    {
     "data": {
      "text/plain": [
       "(torch.Size([20, 459, 151936]), torch.Size([20, 459, 1]))"
      ]
     },
     "execution_count": 9,
     "metadata": {},
     "output_type": "execute_result"
    }
   ],
   "source": [
    "outputs_chosen.logits.shape, prompt_chosen_batch.unsqueeze(-1).shape\n",
    "\n"
   ]
  }
 ],
 "metadata": {
  "kernelspec": {
   "display_name": "py312",
   "language": "python",
   "name": "python3"
  },
  "language_info": {
   "codemirror_mode": {
    "name": "ipython",
    "version": 3
   },
   "file_extension": ".py",
   "mimetype": "text/x-python",
   "name": "python",
   "nbconvert_exporter": "python",
   "pygments_lexer": "ipython3",
   "version": "3.12.11"
  }
 },
 "nbformat": 4,
 "nbformat_minor": 5
}
